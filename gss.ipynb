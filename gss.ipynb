{
 "cells": [
  {
   "cell_type": "code",
   "execution_count": 11,
   "metadata": {},
   "outputs": [
    {
     "data": {
      "text/plain": [
       "<torch._C.Generator at 0x1f38398e390>"
      ]
     },
     "execution_count": 11,
     "metadata": {},
     "output_type": "execute_result"
    }
   ],
   "source": [
    "import torch\n",
    "import torchvision\n",
    "import torchvision.transforms as transforms\n",
    "import torchvision.datasets as datasets\n",
    "import torch.nn as nn\n",
    "import torch.nn.functional as F\n",
    "import matplotlib.pyplot as plt\n",
    "import numpy as np\n",
    "from torch.autograd import Variable\n",
    "\n",
    "torch.manual_seed(1228)"
   ]
  },
  {
   "cell_type": "code",
   "execution_count": 12,
   "metadata": {},
   "outputs": [],
   "source": [
    "device = torch.device('cuda') if torch.cuda.is_available() else torch.device('cpu')\n",
    "\n",
    "batch_size = 1\n",
    "\n",
    "var_list = [300]\n",
    "\n",
    "green_dir = 'C:\\\\Users\\\\WorkStation\\\\Desktop\\\\캡디이미지\\\\CAE_dataset\\\\green'\n",
    "yellow_dir = 'C:\\\\Users\\\\WorkStation\\\\Desktop\\\\캡디이미지\\\\CAE_dataset\\\\yellow'\n",
    "red_dir = 'C:\\\\Users\\\\WorkStation\\\\Desktop\\\\캡디이미지\\\\CAE_dataset\\\\red'\n",
    "blue_dir = 'C:\\\\Users\\\\WorkStation\\\\Desktop\\\\캡디이미지\\\\CAE_dataset\\\\blue'"
   ]
  },
  {
   "cell_type": "code",
   "execution_count": 13,
   "metadata": {},
   "outputs": [],
   "source": [
    "green_set = datasets.ImageFolder(\n",
    "    green_dir,\n",
    "    transforms.Compose([\n",
    "        transforms.Resize((224, 224)),\n",
    "        transforms.ToTensor()\n",
    "    ])\n",
    ")\n",
    "\n",
    "yellow_set = datasets.ImageFolder(\n",
    "    yellow_dir,\n",
    "    transforms.Compose([\n",
    "        transforms.Resize((224, 224)),\n",
    "        transforms.ToTensor()\n",
    "    ])\n",
    ")\n",
    "\n",
    "red_set = datasets.ImageFolder(\n",
    "    red_dir,\n",
    "    transforms.Compose([\n",
    "        transforms.Resize((224, 224)),\n",
    "        transforms.ToTensor()\n",
    "    ])\n",
    ")\n",
    "\n",
    "blue_set = datasets.ImageFolder(\n",
    "    blue_dir,\n",
    "    transforms.Compose([\n",
    "        transforms.Resize((224, 224)),\n",
    "        transforms.ToTensor()\n",
    "    ])\n",
    ")\n",
    "\n",
    "\n",
    "green_train, green_test = torch.utils.data.random_split(green_set, [250, 50])  \n",
    "yellow_train, yellow_test = torch.utils.data.random_split(yellow_set, [250, 50])  \n",
    "red_train, red_test = torch.utils.data.random_split(red_set, [250, 50]) \n",
    "blue_train, blue_test = torch.utils.data.random_split(blue_set, [250, 50]) \n",
    "\n",
    "\n",
    "normal_set = green_set + blue_set\n",
    "#abnormal_set = red_set + yellow_set\n",
    "abnormal_set = red_set\n",
    "\n",
    "train_dataset1 = list(green_train)[:int(len(green_train)*0.2)] + list(blue_train)[:int(len(blue_train)*0.8)]\n",
    "train_dataset2 = list(green_train)[:int(len(green_train)*0.2)] + list(blue_train)[:int(len(blue_train)*0.8)]\n",
    "test_dataset = green_test + blue_test"
   ]
  },
  {
   "cell_type": "code",
   "execution_count": 14,
   "metadata": {},
   "outputs": [],
   "source": [
    "class ConvAutoEncoder(nn.Module):\n",
    "    def __init__(self):\n",
    "        super(ConvAutoEncoder, self).__init__()\n",
    "        \n",
    "        # Encoder\n",
    "        self.cnn_layer1 = nn.Sequential(\n",
    "            nn.Conv2d(3, 32, kernel_size=3, stride=1, padding=1),\n",
    "            nn.ReLU(),\n",
    "            nn.MaxPool2d(2,2))\n",
    "        \n",
    "        self.cnn_layer2 = nn.Sequential(\n",
    "            nn.Conv2d(32, 64, kernel_size=3, stride=1, padding=1),\n",
    "            nn.ReLU(),\n",
    "            nn.MaxPool2d(2,2))\n",
    "\n",
    "        # Decoder        \n",
    "        self.tran_cnn_layer1 = nn.Sequential(\n",
    "            nn.ConvTranspose2d(64, 32, kernel_size = 2, stride = 2, padding=0),\n",
    "            nn.ReLU())\n",
    "\n",
    "        self.tran_cnn_layer2 = nn.Sequential(\n",
    "            nn.ConvTranspose2d(32, 3, kernel_size = 2, stride = 2, padding=0),\n",
    "            nn.Sigmoid())\n",
    "            \n",
    "            \n",
    "    def forward(self, x):\n",
    "        output = self.cnn_layer1(x)\n",
    "        output = self.cnn_layer2(output)      \n",
    "        output = self.tran_cnn_layer1(output)\n",
    "        output = self.tran_cnn_layer2(output)\n",
    "        \n",
    "        return output"
   ]
  },
  {
   "cell_type": "code",
   "execution_count": 15,
   "metadata": {},
   "outputs": [],
   "source": [
    "import math\n",
    "    \n",
    "def myEquation4(x, model):    \n",
    "    normal_err = 0\n",
    "    abnormal_err = 0    \n",
    "    \n",
    "    for i, (X_normal, _) in enumerate(normal_loader):\n",
    "        X_normal = X_normal.cuda()\n",
    "        output = model(X_normal)\n",
    "        loss = criterion(X_normal, output)\n",
    "        \n",
    "        if loss.item() > x:\n",
    "            normal_err += 1\n",
    "        \n",
    "    for i, (X_abnormal, _) in enumerate(abnormal_loader):\n",
    "        X_abnormal = X_abnormal.cuda()\n",
    "        output = model(X_abnormal)\n",
    "        loss = criterion(X_abnormal, output)\n",
    "        \n",
    "        if loss.item() < x:\n",
    "            abnormal_err += 1\n",
    "      \n",
    "    err = ((normal_err/len(normal_loader)) + (abnormal_err/len(abnormal_loader)))/2.0\n",
    "    \n",
    "    return err\n",
    "\n",
    "gr = (math.sqrt(5) + 1) / 2\n",
    "\n",
    "def gss(f, a, b,  model, tol=1e-8):\n",
    "    c = b - (b - a) / gr\n",
    "    d = a + (b - a) / gr\n",
    "    while abs(b - a) > tol:\n",
    "        if f(c, model) < f(d, model):\n",
    "            b = d\n",
    "        else:\n",
    "            a = c\n",
    "\n",
    "        # We recompute both c and d here to avoid loss of precision which may lead to incorrect results or infinite loop\n",
    "        c = b - (b - a) / gr\n",
    "        d = a + (b - a) / gr\n",
    "\n",
    "    return (b + a) / 2"
   ]
  },
  {
   "cell_type": "code",
   "execution_count": 16,
   "metadata": {},
   "outputs": [
    {
     "name": "stdout",
     "output_type": "stream",
     "text": [
      "Number of round : 300\n",
      "threshold : 0.004390575316659413\n",
      "err : 0.0\n",
      "\n"
     ]
    }
   ],
   "source": [
    "normal_loader = torch.utils.data.DataLoader(normal_set, batch_size=batch_size, shuffle=True)\n",
    "abnormal_loader = torch.utils.data.DataLoader(abnormal_set, batch_size=batch_size, shuffle=True)\n",
    "\n",
    "criterion = nn.MSELoss()\n",
    "\n",
    "for i, r in enumerate(var_list, 0):\n",
    "    model = ConvAutoEncoder().to(device)\n",
    "    model = torch.load(f'model_per_round/round_{r}_weight.pth')\n",
    "\n",
    "    threshold = gss(myEquation4, 0.0, 0.01, model)\n",
    "    err = myEquation4(threshold, model)\n",
    "    print(f\"Number of round : {r}\\nthreshold : {threshold}\\nerr : {err}\\n\")\n",
    "\n",
    "    with open(f'data/threshold by gss.txt', 'a') as f:\n",
    "        f.write(f'{threshold}\\n')\n",
    "        \n",
    "    "
   ]
  },
  {
   "cell_type": "code",
   "execution_count": null,
   "metadata": {},
   "outputs": [],
   "source": []
  },
  {
   "cell_type": "code",
   "execution_count": null,
   "metadata": {},
   "outputs": [],
   "source": []
  }
 ],
 "metadata": {
  "interpreter": {
   "hash": "0b67319c129674fc842d3b4ca84036f3ae8593bdf673cec4fea726cb8ea18f66"
  },
  "kernelspec": {
   "display_name": "Python 3.8.8 ('base')",
   "language": "python",
   "name": "python3"
  },
  "language_info": {
   "codemirror_mode": {
    "name": "ipython",
    "version": 3
   },
   "file_extension": ".py",
   "mimetype": "text/x-python",
   "name": "python",
   "nbconvert_exporter": "python",
   "pygments_lexer": "ipython3",
   "version": "3.8.8"
  },
  "orig_nbformat": 4
 },
 "nbformat": 4,
 "nbformat_minor": 2
}
